{
  "nbformat": 4,
  "nbformat_minor": 0,
  "metadata": {
    "colab": {
      "provenance": [],
      "authorship_tag": "ABX9TyMSSiJ64oQ2KYCBfiUAQvTD",
      "include_colab_link": true
    },
    "kernelspec": {
      "name": "python3",
      "display_name": "Python 3"
    },
    "language_info": {
      "name": "python"
    }
  },
  "cells": [
    {
      "cell_type": "markdown",
      "metadata": {
        "id": "view-in-github",
        "colab_type": "text"
      },
      "source": [
        "<a href=\"https://colab.research.google.com/github/Amyric1/MY-CLASS-EXERCISES/blob/main/PraticeQuiz1_Amarion.ipynb\" target=\"_parent\"><img src=\"https://colab.research.google.com/assets/colab-badge.svg\" alt=\"Open In Colab\"/></a>"
      ]
    },
    {
      "cell_type": "code",
      "source": [
        "print('hello \\n world')"
      ],
      "metadata": {
        "colab": {
          "base_uri": "https://localhost:8080/"
        },
        "id": "7__reBZASMGh",
        "outputId": "25d73c0a-8932-4e25-c9d2-2c2e83f24b97"
      },
      "execution_count": 3,
      "outputs": [
        {
          "output_type": "stream",
          "name": "stdout",
          "text": [
            "hello \n",
            " world\n"
          ]
        }
      ]
    },
    {
      "cell_type": "code",
      "execution_count": 2,
      "metadata": {
        "colab": {
          "base_uri": "https://localhost:8080/"
        },
        "id": "RbrE_elKO3C7",
        "outputId": "10a95cd7-b864-4fe4-f438-aabd329742bc"
      },
      "outputs": [
        {
          "output_type": "stream",
          "name": "stdout",
          "text": [
            "jake\n",
            "jakeWelcome\n"
          ]
        }
      ],
      "source": [
        "yourName=input()\n",
        "print(yourName, end='')\n",
        "print('Welcome')\n"
      ]
    },
    {
      "cell_type": "code",
      "source": [
        "#Question 1\n",
        "# a rectangle perimeter and area \n",
        "width=float(input('provide the width of the rectangle:'))\n",
        "height=float(input('provide the height of the rectangle:'))\n",
        "\n",
        "perimeter= 2*(width+height)\n",
        "area= (width*height)\n",
        "\n",
        "print('the area of a rectangle with width', width, 'and height', 'is', area)\n",
        "print('the perimeter of a rectangle with height', height, 'and width', width, 'is', perimeter)"
      ],
      "metadata": {
        "colab": {
          "base_uri": "https://localhost:8080/"
        },
        "id": "u_geX_mzTyKy",
        "outputId": "9bdd4503-0a28-4be9-b32b-b1e35575e9af"
      },
      "execution_count": 19,
      "outputs": [
        {
          "output_type": "stream",
          "name": "stdout",
          "text": [
            "provide the width of the rectangle:1.4\n",
            "provide the height of the rectangle:5.6\n",
            "the area of a rectangle with width 1.4 and height is 7.839999999999999\n",
            "the perimeter of a rectangle with height 5.6 and width 1.4 is 14.0\n"
          ]
        }
      ]
    },
    {
      "cell_type": "code",
      "source": [
        "#Question 2 \n",
        "# BMI through weight and height \n",
        "height=float(input('please provide your height: '))\n",
        "weight=float(input('please provide your weight: '))\n",
        "\n",
        "BMI= (weight/(height*height))*703\n",
        "print('the BMI for someone with height {:.2f} and weight {:.1f} is {:.3f}'.format(weight, height, BMI))\n"
      ],
      "metadata": {
        "colab": {
          "base_uri": "https://localhost:8080/"
        },
        "id": "jwiW52A9boif",
        "outputId": "ce87ccb1-9ddd-49ea-9bd3-3ebb1e21cbc7"
      },
      "execution_count": 23,
      "outputs": [
        {
          "output_type": "stream",
          "name": "stdout",
          "text": [
            "please provide your height: 61.54\n",
            "please provide your weight: 150.78\n",
            "the BMI for someone with height 150.78 and weight 61.5 is 27.989\n"
          ]
        }
      ]
    }
  ]
}