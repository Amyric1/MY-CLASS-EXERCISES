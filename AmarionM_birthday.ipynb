{
  "nbformat": 4,
  "nbformat_minor": 0,
  "metadata": {
    "colab": {
      "name": "AmarionM_birthday.ipynb",
      "provenance": [],
      "authorship_tag": "ABX9TyNLOmKeRUR0sBZIrqAg3Ld6",
      "include_colab_link": true
    },
    "kernelspec": {
      "name": "python3",
      "display_name": "Python 3"
    },
    "language_info": {
      "name": "python"
    }
  },
  "cells": [
    {
      "cell_type": "markdown",
      "metadata": {
        "id": "view-in-github",
        "colab_type": "text"
      },
      "source": [
        "<a href=\"https://colab.research.google.com/github/Amyric1/MY-CLASS-EXERCISES/blob/main/AmarionM_birthday.ipynb\" target=\"_parent\"><img src=\"https://colab.research.google.com/assets/colab-badge.svg\" alt=\"Open In Colab\"/></a>"
      ]
    },
    {
      "cell_type": "code",
      "source": [
        "import datetime as dt\n",
        "today=dt.date.today()\n",
        "print('today is:', today)"
      ],
      "metadata": {
        "colab": {
          "base_uri": "https://localhost:8080/"
        },
        "id": "peUdrENLOR1p",
        "outputId": "59152c43-5ab4-451d-eee2-39f4107f53eb"
      },
      "execution_count": null,
      "outputs": [
        {
          "output_type": "stream",
          "name": "stdout",
          "text": [
            "today is: 2022-08-23\n"
          ]
        }
      ]
    },
    {
      "cell_type": "code",
      "source": [
        "bDay=int(input('what day of the months were you born in:'))\n",
        "bMonth=int(input('what month were you born in;'))\n",
        "bYear=int(input('what year you were born in;'))\n",
        "\n",
        "BD=dt.date(bYear,bMonth,bDay)\n",
        "\n",
        "print(\"you were born on:\",BD.strftime('%A %B %D %Y'))"
      ],
      "metadata": {
        "colab": {
          "base_uri": "https://localhost:8080/"
        },
        "id": "UueBgPobS0sX",
        "outputId": "65699182-4606-4229-a0e2-321a1b7a4ebd"
      },
      "execution_count": null,
      "outputs": [
        {
          "output_type": "stream",
          "name": "stdout",
          "text": [
            "what day of the months were you born in:06\n",
            "what month were you born in;06\n",
            "what year you were born in;2003\n",
            "you were born on: FridayJune06/06/032003\n"
          ]
        }
      ]
    },
    {
      "cell_type": "code",
      "source": [
        "import calendar\n",
        "print(calendar.calendar(2003))"
      ],
      "metadata": {
        "colab": {
          "base_uri": "https://localhost:8080/"
        },
        "id": "dldCGw1TUCWL",
        "outputId": "5bf008bf-ab8f-4275-ca05-8bd3cf506c99"
      },
      "execution_count": null,
      "outputs": [
        {
          "output_type": "stream",
          "name": "stdout",
          "text": [
            "                                  2003\n",
            "\n",
            "      January                   February                   March\n",
            "Mo Tu We Th Fr Sa Su      Mo Tu We Th Fr Sa Su      Mo Tu We Th Fr Sa Su\n",
            "       1  2  3  4  5                      1  2                      1  2\n",
            " 6  7  8  9 10 11 12       3  4  5  6  7  8  9       3  4  5  6  7  8  9\n",
            "13 14 15 16 17 18 19      10 11 12 13 14 15 16      10 11 12 13 14 15 16\n",
            "20 21 22 23 24 25 26      17 18 19 20 21 22 23      17 18 19 20 21 22 23\n",
            "27 28 29 30 31            24 25 26 27 28            24 25 26 27 28 29 30\n",
            "                                                    31\n",
            "\n",
            "       April                      May                       June\n",
            "Mo Tu We Th Fr Sa Su      Mo Tu We Th Fr Sa Su      Mo Tu We Th Fr Sa Su\n",
            "    1  2  3  4  5  6                1  2  3  4                         1\n",
            " 7  8  9 10 11 12 13       5  6  7  8  9 10 11       2  3  4  5  6  7  8\n",
            "14 15 16 17 18 19 20      12 13 14 15 16 17 18       9 10 11 12 13 14 15\n",
            "21 22 23 24 25 26 27      19 20 21 22 23 24 25      16 17 18 19 20 21 22\n",
            "28 29 30                  26 27 28 29 30 31         23 24 25 26 27 28 29\n",
            "                                                    30\n",
            "\n",
            "        July                     August                  September\n",
            "Mo Tu We Th Fr Sa Su      Mo Tu We Th Fr Sa Su      Mo Tu We Th Fr Sa Su\n",
            "    1  2  3  4  5  6                   1  2  3       1  2  3  4  5  6  7\n",
            " 7  8  9 10 11 12 13       4  5  6  7  8  9 10       8  9 10 11 12 13 14\n",
            "14 15 16 17 18 19 20      11 12 13 14 15 16 17      15 16 17 18 19 20 21\n",
            "21 22 23 24 25 26 27      18 19 20 21 22 23 24      22 23 24 25 26 27 28\n",
            "28 29 30 31               25 26 27 28 29 30 31      29 30\n",
            "\n",
            "      October                   November                  December\n",
            "Mo Tu We Th Fr Sa Su      Mo Tu We Th Fr Sa Su      Mo Tu We Th Fr Sa Su\n",
            "       1  2  3  4  5                      1  2       1  2  3  4  5  6  7\n",
            " 6  7  8  9 10 11 12       3  4  5  6  7  8  9       8  9 10 11 12 13 14\n",
            "13 14 15 16 17 18 19      10 11 12 13 14 15 16      15 16 17 18 19 20 21\n",
            "20 21 22 23 24 25 26      17 18 19 20 21 22 23      22 23 24 25 26 27 28\n",
            "27 28 29 30 31            24 25 26 27 28 29 30      29 30 31\n",
            "\n"
          ]
        }
      ]
    }
  ]
}